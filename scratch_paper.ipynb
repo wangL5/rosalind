{
 "cells": [
  {
   "cell_type": "code",
   "execution_count": null,
   "id": "2a12b6e7",
   "metadata": {},
   "outputs": [],
   "source": [
    "import pandas as pd\n",
    "\n",
    "def valid_emails(users: pd.DataFrame) -> pd.DataFrame:\n",
    "    # users with valid emails in the \"mail\" column\n",
    "    pattern = r'[a-zA-Z0-9_.-]*@leetcode.com'\n",
    "    new_df = users[(users[\"mail\"].str[0].str.isalpha()) | (~users[\"mail\"].str.contains(pattern))]\n",
    "    return new_df"
   ]
  }
 ],
 "metadata": {
  "language_info": {
   "name": "python"
  }
 },
 "nbformat": 4,
 "nbformat_minor": 5
}
