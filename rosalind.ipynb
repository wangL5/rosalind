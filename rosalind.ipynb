{
 "cells": [
  {
   "cell_type": "code",
   "execution_count": 1,
   "id": "713eb338",
   "metadata": {},
   "outputs": [
    {
     "name": "stdout",
     "output_type": "stream",
     "text": [
      "The Zen of Python, by Tim Peters\n",
      "\n",
      "Beautiful is better than ugly.\n",
      "Explicit is better than implicit.\n",
      "Simple is better than complex.\n",
      "Complex is better than complicated.\n",
      "Flat is better than nested.\n",
      "Sparse is better than dense.\n",
      "Readability counts.\n",
      "Special cases aren't special enough to break the rules.\n",
      "Although practicality beats purity.\n",
      "Errors should never pass silently.\n",
      "Unless explicitly silenced.\n",
      "In the face of ambiguity, refuse the temptation to guess.\n",
      "There should be one-- and preferably only one --obvious way to do it.\n",
      "Although that way may not be obvious at first unless you're Dutch.\n",
      "Now is better than never.\n",
      "Although never is often better than *right* now.\n",
      "If the implementation is hard to explain, it's a bad idea.\n",
      "If the implementation is easy to explain, it may be a good idea.\n",
      "Namespaces are one honking great idea -- let's do more of those!\n"
     ]
    }
   ],
   "source": [
    "import this"
   ]
  },
  {
   "cell_type": "markdown",
   "id": "cb44e4d6",
   "metadata": {},
   "source": [
    "2 positive integers, a and b, each < 1000\n",
    "\n",
    "return: the integer corresponding to the square of the hypoteneuse of the right triangle whose legs have lengths a and b "
   ]
  },
  {
   "cell_type": "code",
   "execution_count": 7,
   "id": "20a8a1b1",
   "metadata": {},
   "outputs": [
    {
     "name": "stdout",
     "output_type": "stream",
     "text": [
      "1926689\n"
     ]
    }
   ],
   "source": [
    "def hypot(a, b):\n",
    "    c = a**2 + b**2\n",
    "    print(c)\n",
    "\n",
    "hypot(980,983)"
   ]
  },
  {
   "cell_type": "markdown",
   "id": "d4758e11",
   "metadata": {},
   "source": [
    "input: a string of S length at most 200 letters, and 4 integers a, b, c, d\n",
    "return: the slice of this strince from indicies a through b, and c through d, inclusively"
   ]
  },
  {
   "cell_type": "code",
   "execution_count": 8,
   "id": "7c8732f0",
   "metadata": {},
   "outputs": [],
   "source": [
    "def egg(string, a, b, c, d):\n",
    "    egg1 = string[a:b+1]\n",
    "    egg2 = string[c:d+1]\n",
    "    print(f'{egg1} {egg2}')\n"
   ]
  },
  {
   "cell_type": "code",
   "execution_count": 10,
   "id": "095cc087",
   "metadata": {},
   "outputs": [
    {
     "name": "stdout",
     "output_type": "stream",
     "text": [
      "Humpty Dumpty\n"
     ]
    }
   ],
   "source": [
    "egg(\"HumptyDumptysatonawallHumptyDumptyhadagreatfallAlltheKingshorsesandalltheKingsmenCouldntputHumptyDumptyinhisplaceagain\", 22, 27, 97, 102)"
   ]
  },
  {
   "cell_type": "code",
   "execution_count": 11,
   "id": "5ca44605",
   "metadata": {},
   "outputs": [
    {
     "name": "stdout",
     "output_type": "stream",
     "text": [
      "Bradypodion pulcher\n"
     ]
    }
   ],
   "source": [
    "egg(\"E1jf3vnOCPwrC1gLTBradypodion075IR09qCdiMbDk7zd7CWU5fKEq4zsRKHFTL23kiE4V39FB4Xw03aFL3WUQXeakCBH5cShS9pulcher7OW76a8tl0j6V7xNZTw9SZGUXdzZn2DnduTMksJLb9y8hzolHFPyUR\",\n",
    "17, 27, 100, 106)"
   ]
  },
  {
   "cell_type": "markdown",
   "id": "2a8c722b",
   "metadata": {},
   "source": [
    "input: 2 positive integers a and b. a < b < 1000\n",
    "output: sum of all odd integers from a through b, inclusively "
   ]
  },
  {
   "cell_type": "code",
   "execution_count": null,
   "id": "2536d032",
   "metadata": {},
   "outputs": [],
   "source": [
    "def odds(a, b):\n",
    "    sum = 0\n",
    "    for i in range(a, b+1):\n",
    "        if i % 2 != 0:\n",
    "            sum += i \n",
    "    return(sum)"
   ]
  },
  {
   "cell_type": "code",
   "execution_count": 15,
   "id": "47885f4f",
   "metadata": {},
   "outputs": [
    {
     "name": "stdout",
     "output_type": "stream",
     "text": [
      "7500\n"
     ]
    }
   ],
   "source": [
    "print(odds(100,200))"
   ]
  },
  {
   "cell_type": "code",
   "execution_count": 16,
   "id": "75459707",
   "metadata": {},
   "outputs": [
    {
     "name": "stdout",
     "output_type": "stream",
     "text": [
      "16090272\n"
     ]
    }
   ],
   "source": [
    "print(odds(4396,9148))"
   ]
  },
  {
   "cell_type": "markdown",
   "id": "50fc44a8",
   "metadata": {},
   "source": [
    "Given: A file containing at most 1000 lines.\n",
    "\n",
    "Return: A file containing all the even-numbered lines from the original file. Assume 1-based numbering of lines.\n",
    "\n",
    "Bravely bold Sir Robin rode forth from Camelot\n",
    "Yes, brave Sir Robin turned about\n",
    "He was not afraid to die, O brave Sir Robin\n",
    "And gallantly he chickened out\n",
    "He was not at all afraid to be killed in nasty ways\n",
    "Bravely talking to his feet\n",
    "Brave, brave, brave, brave Sir Robin\n",
    "He beat a very brave retreat"
   ]
  },
  {
   "cell_type": "code",
   "execution_count": 30,
   "id": "dd12694c",
   "metadata": {},
   "outputs": [],
   "source": [
    "def odd_lines(file_name):\n",
    "    with open(file_name) as file:  # default is r \n",
    "        for line_number, line in enumerate(file, start=1):\n",
    "            if (line_number % 2) == 0:\n",
    "                # strip line of spaces and new lines \n",
    "                print(line.strip())"
   ]
  },
  {
   "cell_type": "code",
   "execution_count": 32,
   "id": "c5b56c8d",
   "metadata": {},
   "outputs": [
    {
     "name": "stdout",
     "output_type": "stream",
     "text": [
      "Some things in life are bad, they can really make you mad\n",
      "Other things just make you swear and curse\n",
      "When you're chewing on life's gristle, don't grumble give a whistle\n",
      "This will help things turn out for the best\n",
      "Always look on the bright side of life\n",
      "Always look on the right side of life\n",
      "If life seems jolly rotten, there's something you've forgotten\n",
      "And that's to laugh and smile and dance and sing\n",
      "When you're feeling in the dumps, don't be silly, chumps\n",
      "Just purse your lips and whistle, that's the thing\n",
      "So, always look on the bright side of death\n",
      "Just before you draw your terminal breath\n",
      "Life's a counterfeit and when you look at it\n",
      "Life's a laugh and death's the joke, it's true\n",
      "You see, it's all a show, keep them laughing as you go\n",
      "Just remember the last laugh is on you\n",
      "Always look on the bright side of life\n",
      "And always look on the right side of life\n",
      "Always look on the bright side of life\n",
      "And always look on the right side of life\n"
     ]
    }
   ],
   "source": [
    "odd_lines(\"rosalind_ini5.txt\")"
   ]
  },
  {
   "cell_type": "markdown",
   "id": "16069730",
   "metadata": {},
   "source": [
    "Given: A string s of length at most 10000 letters.\n",
    "\n",
    "Return: The number of occurrences of each word in s, where words are separated by spaces. Words are case-sensitive, and the lines in the output can be in any order."
   ]
  },
  {
   "cell_type": "code",
   "execution_count": 83,
   "id": "64d57823",
   "metadata": {},
   "outputs": [],
   "source": [
    "sample = \"We tried list and we tried dicts also we tried Zen\"\n",
    "\n",
    "# read this in as a list, separated by \" \" \n",
    "# make the list into a new set\n",
    "# start an empty dict \n",
    "# for each item x in the set, if x is equal to an item in the list, add it to a tmp list\n",
    "# add to the dict: item x, and len(tmp list)\n",
    "\n",
    "def count_set(str):\n",
    "    final_dict = {}\n",
    "    str_list = str.split()\n",
    "    str_set = set(str_list)\n",
    "    for item in str_set:\n",
    "        tmp_list = []\n",
    "        for item2 in str_list:\n",
    "            if item2 == item:\n",
    "                tmp_list.append(item2)\n",
    "        final_dict[item] = len(tmp_list)\n",
    "    for key, value in final_dict.items():\n",
    "        print(f\"{key} {value}\")"
   ]
  },
  {
   "cell_type": "code",
   "execution_count": 85,
   "id": "8a407c41",
   "metadata": {},
   "outputs": [
    {
     "name": "stdout",
     "output_type": "stream",
     "text": [
      "find 1\n",
      "comes 2\n",
      "hearted 1\n",
      "chance 1\n",
      "agree 1\n",
      "she 1\n",
      "For 1\n",
      "my 1\n",
      "living 1\n",
      "Let 6\n",
      "of 11\n",
      "music 1\n",
      "be 41\n",
      "though 1\n",
      "people 1\n",
      "When 1\n",
      "trouble 1\n",
      "There 4\n",
      "Mother 2\n",
      "darkness 1\n",
      "me 4\n",
      "cloudy 1\n",
      "up 1\n",
      "the 4\n",
      "see 1\n",
      "Speaking 3\n",
      "shines 1\n",
      "in 4\n",
      "still 2\n",
      "Shine 1\n",
      "wisdom 7\n",
      "front 1\n",
      "broken 1\n",
      "light 1\n",
      "to 3\n",
      "right 1\n",
      "times 1\n",
      "night 1\n",
      "an 4\n",
      "they 2\n",
      "there 2\n",
      "myself 1\n",
      "yeah 2\n",
      "will 5\n",
      "is 4\n",
      "words 7\n",
      "hour 1\n",
      "tomorrow 1\n",
      "sound 1\n",
      "let 30\n",
      "a 2\n",
      "on 1\n",
      "it 36\n",
      "wake 1\n",
      "world 1\n",
      "Mary 2\n",
      "And 3\n",
      "Whisper 4\n",
      "answer 4\n",
      "may 1\n",
      "when 2\n",
      "standing 1\n",
      "until 1\n",
      "that 2\n",
      "I 2\n",
      "parted 1\n"
     ]
    }
   ],
   "source": [
    "sample2 = \"When I find myself in times of trouble Mother Mary comes to me Speaking words of wisdom let it be And in my hour of darkness she is standing right in front of me Speaking words of wisdom let it be Let it be let it be let it be let it be Whisper words of wisdom let it be And when the broken hearted people living in the world agree There will be an answer let it be For though they may be parted there is still a chance that they will see There will be an answer let it be Let it be let it be let it be let it be There will be an answer let it be Let it be let it be let it be let it be Whisper words of wisdom let it be Let it be let it be let it be let it be Whisper words of wisdom let it be And when the night is cloudy there is still a light that shines on me Shine until tomorrow let it be I wake up to the sound of music Mother Mary comes to me Speaking words of wisdom let it be Let it be let it be let it be yeah let it be There will be an answer let it be Let it be let it be let it be yeah let it be Whisper words of wisdom let it be\"\n",
    "count_set(sample2)"
   ]
  }
 ],
 "metadata": {
  "kernelspec": {
   "display_name": "base",
   "language": "python",
   "name": "python3"
  },
  "language_info": {
   "codemirror_mode": {
    "name": "ipython",
    "version": 3
   },
   "file_extension": ".py",
   "mimetype": "text/x-python",
   "name": "python",
   "nbconvert_exporter": "python",
   "pygments_lexer": "ipython3",
   "version": "3.12.7"
  }
 },
 "nbformat": 4,
 "nbformat_minor": 5
}
