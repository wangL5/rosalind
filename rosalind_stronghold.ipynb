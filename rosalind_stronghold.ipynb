{
 "cells": [
  {
   "cell_type": "markdown",
   "id": "03761b79",
   "metadata": {},
   "source": [
    "Given: A DNA string s of length at most 1000 nt.\n",
    "\n",
    "Return: Four integers (separated by spaces) counting the respective number of times that the symbols 'A', 'C', 'G', and 'T' occur in s."
   ]
  },
  {
   "cell_type": "code",
   "execution_count": 26,
   "id": "370ca6dc",
   "metadata": {},
   "outputs": [],
   "source": [
    "s = \"TTCACTTTGCTACCGTGGCATATTGGAGTAAGAGCCTCTCCTGGGACGGGAATAGTATTAATCAAGAGAGTTGGTATGAGTGATACTCTAGAAGGTGACTACTTTGTATCCGCTACCAGCGAGCGGGTAGGTTACAAACGTACATTACGACCAAGACATTGATTCTGGCCCAGTACAATGCCAGAATAGATCTTCTGCTGTCTACCATTCAAATCAGGTATGAATTACATGGGTGCTAAAAAAGACGCTTGCGGGTGCGCTAATAATTTTGGCTAGACGGATAGAATTTGCTCCATCTCAACGTCCACCTTGTCAAATGTGGTGTCCTGCCTCCCTAATACGCTTCCATTTTGGCACGCCGGGTCTTCCGTGTCACAGTCTAATGACCCTCACGGCTATCAATCCGCGCATACCTTGCAAGACTTGCGGTCTCTTCTCATTTCAATAAGTCAGTATGCACGCATCCCAATTAAGAGTCGACTTACGTGGCACCGGCGAAGGTCCTAACCTAAGGGTTTACTGAACCTTGCTGAGACGATAACTCGCCTACACGAAGCAAGAGTGTCTTTCCGGGTTTTATAACATTTGGTAACGTTGGGATCGAGGTGGAATTGGAATCTTGTCGTTGAATTTCAACTTAAGGCACGTGCAGCACTCGATTGATGATGGTAAGTTGGAAGGGAGACTCGTATGGATTTCAAAACTAGGGCGTATTCACAATCAATTGTCTAGCCCGTTAGCACGGCAACGTCTGACAACAGCAACGTTTGTGGTTCTCACCATTCCGTATGAGGAAAACCGGGGCTCGCACGGATTGGATAGTAGTGACGCGTTTCTCCGGAAACGATTCAGGGTAGCATTTATTAGCTTGTCAGGGGCTAGCGACGCCGCCGCTAGCTATCTTAAACTTCCAATATCGGCAGTT\""
   ]
  },
  {
   "cell_type": "code",
   "execution_count": 24,
   "id": "e01627b4",
   "metadata": {},
   "outputs": [],
   "source": [
    "def DNA_count(s):\n",
    "    s_set = set(s)  # turn the list into a set \n",
    "    counts = {}\n",
    "    for base in s_set:\n",
    "        tmp_list = []\n",
    "        for base2 in s:\n",
    "            if base == base2:\n",
    "                tmp_list.append(base2)\n",
    "        counts[base] = len(tmp_list)\n",
    "    # print(f'{counts['A']} {counts['C']} {counts['G']} {counts['T']}')\n",
    "    for key in sorted(counts):\n",
    "        print(counts[key], end = \" \")"
   ]
  },
  {
   "cell_type": "code",
   "execution_count": 27,
   "id": "5dbfe382",
   "metadata": {},
   "outputs": [
    {
     "name": "stdout",
     "output_type": "stream",
     "text": [
      "236 212 224 253 "
     ]
    }
   ],
   "source": [
    "DNA_count(s)"
   ]
  }
 ],
 "metadata": {
  "kernelspec": {
   "display_name": "base",
   "language": "python",
   "name": "python3"
  },
  "language_info": {
   "codemirror_mode": {
    "name": "ipython",
    "version": 3
   },
   "file_extension": ".py",
   "mimetype": "text/x-python",
   "name": "python",
   "nbconvert_exporter": "python",
   "pygments_lexer": "ipython3",
   "version": "3.12.7"
  }
 },
 "nbformat": 4,
 "nbformat_minor": 5
}
