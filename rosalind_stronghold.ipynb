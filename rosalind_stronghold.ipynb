{
 "cells": [
  {
   "cell_type": "markdown",
   "id": "03761b79",
   "metadata": {},
   "source": [
    "Given: A DNA string s of length at most 1000 nt.\n",
    "\n",
    "Return: Four integers (separated by spaces) counting the respective number of times that the symbols 'A', 'C', 'G', and 'T' occur in s."
   ]
  },
  {
   "cell_type": "code",
   "execution_count": 26,
   "id": "370ca6dc",
   "metadata": {},
   "outputs": [],
   "source": [
    "s = \"TTCACTTTGCTACCGTGGCATATTGGAGTAAGAGCCTCTCCTGGGACGGGAATAGTATTAATCAAGAGAGTTGGTATGAGTGATACTCTAGAAGGTGACTACTTTGTATCCGCTACCAGCGAGCGGGTAGGTTACAAACGTACATTACGACCAAGACATTGATTCTGGCCCAGTACAATGCCAGAATAGATCTTCTGCTGTCTACCATTCAAATCAGGTATGAATTACATGGGTGCTAAAAAAGACGCTTGCGGGTGCGCTAATAATTTTGGCTAGACGGATAGAATTTGCTCCATCTCAACGTCCACCTTGTCAAATGTGGTGTCCTGCCTCCCTAATACGCTTCCATTTTGGCACGCCGGGTCTTCCGTGTCACAGTCTAATGACCCTCACGGCTATCAATCCGCGCATACCTTGCAAGACTTGCGGTCTCTTCTCATTTCAATAAGTCAGTATGCACGCATCCCAATTAAGAGTCGACTTACGTGGCACCGGCGAAGGTCCTAACCTAAGGGTTTACTGAACCTTGCTGAGACGATAACTCGCCTACACGAAGCAAGAGTGTCTTTCCGGGTTTTATAACATTTGGTAACGTTGGGATCGAGGTGGAATTGGAATCTTGTCGTTGAATTTCAACTTAAGGCACGTGCAGCACTCGATTGATGATGGTAAGTTGGAAGGGAGACTCGTATGGATTTCAAAACTAGGGCGTATTCACAATCAATTGTCTAGCCCGTTAGCACGGCAACGTCTGACAACAGCAACGTTTGTGGTTCTCACCATTCCGTATGAGGAAAACCGGGGCTCGCACGGATTGGATAGTAGTGACGCGTTTCTCCGGAAACGATTCAGGGTAGCATTTATTAGCTTGTCAGGGGCTAGCGACGCCGCCGCTAGCTATCTTAAACTTCCAATATCGGCAGTT\""
   ]
  },
  {
   "cell_type": "code",
   "execution_count": 24,
   "id": "e01627b4",
   "metadata": {},
   "outputs": [],
   "source": [
    "def DNA_count(s):\n",
    "    s_set = set(s)  # turn the list into a set \n",
    "    counts = {}\n",
    "    for base in s_set:\n",
    "        tmp_list = []\n",
    "        for base2 in s:\n",
    "            if base == base2:\n",
    "                tmp_list.append(base2)\n",
    "        counts[base] = len(tmp_list)\n",
    "    # print(f'{counts['A']} {counts['C']} {counts['G']} {counts['T']}')\n",
    "    for key in sorted(counts):\n",
    "        print(counts[key], end = \" \")"
   ]
  },
  {
   "cell_type": "code",
   "execution_count": 27,
   "id": "5dbfe382",
   "metadata": {},
   "outputs": [
    {
     "name": "stdout",
     "output_type": "stream",
     "text": [
      "236 212 224 253 "
     ]
    }
   ],
   "source": [
    "DNA_count(s)"
   ]
  },
  {
   "cell_type": "markdown",
   "id": "c01c0cba",
   "metadata": {},
   "source": [
    "An RNA string is a string formed from the alphabet containing 'A', 'C', 'G', and 'U'.\n",
    "\n",
    "Given a DNA string t corresponding to a coding strand, its transcribed RNA string u is formed by replacing all occurrences of 'T' in t with 'U' in u.\n",
    "\n",
    "Given: A DNA string t having length at most 1000 nt.\n",
    "\n",
    "Return: The transcribed RNA string of t."
   ]
  },
  {
   "cell_type": "code",
   "execution_count": null,
   "id": "988e8f5a",
   "metadata": {},
   "outputs": [],
   "source": []
  },
  {
   "cell_type": "markdown",
   "id": "cde010b7",
   "metadata": {},
   "source": [
    "In DNA strings, symbols 'A' and 'T' are complements of each other, as are 'C' and 'G'.\n",
    "\n",
    "The reverse complement of a DNA string is the string sc formed by reversing the symbols of s, then taking the complement of each symbol (e.g., the reverse complement of \"GTCA\" is \"TGAC\").\n",
    "\n",
    "Given: A DNA string s of length at most 1000 bp.\n",
    "\n",
    "Return: The reverse complement sc of s."
   ]
  },
  {
   "cell_type": "code",
   "execution_count": 7,
   "id": "2efe1943",
   "metadata": {},
   "outputs": [],
   "source": [
    "s = \"TTACTCACGAGCGAACTCCTAAGTGGTAAATAATTGGATGCGAGACTCGTTAAGTAGGGTAGGCTACTGCGATCTGTACTAGCCAATCACCGTCTCATCCTAAGTTCGGCTCACCACGGCTTACAGTCCTGCGCTACTCTGAACAACTGTGAGTCACCGTCCTACAAATATGGTATACGTGTTTCGAGAGACCTCTAAGAGCATTGGGTGTTCAGTAACGAACGGTGATAGTCGTGATTTCATCGGACCCCGTTCCTTCGGACCTCTCGCCCTAGTTAGGATTAGTGGGTGTATACGTTAGCCACTGCGGCTCTCAGACCAGCAACTACGGGCGGTGATGATCGTATGCTGTCCTGACCATTCGTTGGTCGGATTCTTGCACACATGCAAGACCTCGCCTGGAGCGGCTCTCGATACAACATCTGTAAACTGGGCGATTATTCAACAAGACCATAAGAAACTTGCTACACGGTAGGGACACCAGACTGCTGCTTAGATGGTTGAAAATCTACAGGGTCGCTACTGGGAAGGCCTTAGAATTCTGAGGTAGGCATAGAGACCCTACTATGCCGCATGGGTTTCATTGACTCCTCCTAGCCAGCACGTAGCCCTTCTTCGCATCTCGTTGCGACGGCCGATCGACTACCCAGGTCCATTACCCGAACCTCATTTCACTACAAAGCCCCCCAACAAAGAGTTTAACGTGTGCGTCTTCGAACTCTCTGGCTTGCGATTCTGTGCACGACCTTGAAAAATGGGTATCTGCCCGGGCGAGCCTTGTCAGCCATTATCACGAATTCTGATCACTTACCTAAACTTATCCCTGAAGCCGTGATCCTAAATCAATAACTAAAATCTCTAACATATTTACCGACAATGTATCTGTACCCTAATTTTGCCAGCATGCATATGAGCTTCAGGCC\""
   ]
  },
  {
   "cell_type": "code",
   "execution_count": 5,
   "id": "325e214f",
   "metadata": {},
   "outputs": [],
   "source": [
    "def rev_comp(s):\n",
    "    sc = []\n",
    "    for i in s: \n",
    "        if i == 'A':\n",
    "            sc.insert(0, 'T')\n",
    "        if i == 'T':\n",
    "            sc.insert(0, 'A')\n",
    "        if i == 'C':\n",
    "            sc.insert(0, 'G')\n",
    "        if i == 'G':\n",
    "            sc.insert(0, 'C')\n",
    "    sc_string = \"\".join(sc)\n",
    "    print(sc_string)\n",
    "    "
   ]
  },
  {
   "cell_type": "code",
   "execution_count": 8,
   "id": "25a9fac2",
   "metadata": {},
   "outputs": [
    {
     "name": "stdout",
     "output_type": "stream",
     "text": [
      "GGCCTGAAGCTCATATGCATGCTGGCAAAATTAGGGTACAGATACATTGTCGGTAAATATGTTAGAGATTTTAGTTATTGATTTAGGATCACGGCTTCAGGGATAAGTTTAGGTAAGTGATCAGAATTCGTGATAATGGCTGACAAGGCTCGCCCGGGCAGATACCCATTTTTCAAGGTCGTGCACAGAATCGCAAGCCAGAGAGTTCGAAGACGCACACGTTAAACTCTTTGTTGGGGGGCTTTGTAGTGAAATGAGGTTCGGGTAATGGACCTGGGTAGTCGATCGGCCGTCGCAACGAGATGCGAAGAAGGGCTACGTGCTGGCTAGGAGGAGTCAATGAAACCCATGCGGCATAGTAGGGTCTCTATGCCTACCTCAGAATTCTAAGGCCTTCCCAGTAGCGACCCTGTAGATTTTCAACCATCTAAGCAGCAGTCTGGTGTCCCTACCGTGTAGCAAGTTTCTTATGGTCTTGTTGAATAATCGCCCAGTTTACAGATGTTGTATCGAGAGCCGCTCCAGGCGAGGTCTTGCATGTGTGCAAGAATCCGACCAACGAATGGTCAGGACAGCATACGATCATCACCGCCCGTAGTTGCTGGTCTGAGAGCCGCAGTGGCTAACGTATACACCCACTAATCCTAACTAGGGCGAGAGGTCCGAAGGAACGGGGTCCGATGAAATCACGACTATCACCGTTCGTTACTGAACACCCAATGCTCTTAGAGGTCTCTCGAAACACGTATACCATATTTGTAGGACGGTGACTCACAGTTGTTCAGAGTAGCGCAGGACTGTAAGCCGTGGTGAGCCGAACTTAGGATGAGACGGTGATTGGCTAGTACAGATCGCAGTAGCCTACCCTACTTAACGAGTCTCGCATCCAATTATTTACCACTTAGGAGTTCGCTCGTGAGTAA\n"
     ]
    }
   ],
   "source": [
    "rev_comp(s)"
   ]
  }
 ],
 "metadata": {
  "kernelspec": {
   "display_name": "Python 3",
   "language": "python",
   "name": "python3"
  },
  "language_info": {
   "codemirror_mode": {
    "name": "ipython",
    "version": 3
   },
   "file_extension": ".py",
   "mimetype": "text/x-python",
   "name": "python",
   "nbconvert_exporter": "python",
   "pygments_lexer": "ipython3",
   "version": "3.9.6"
  }
 },
 "nbformat": 4,
 "nbformat_minor": 5
}
